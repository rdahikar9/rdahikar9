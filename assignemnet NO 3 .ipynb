{
 "cells": [
  {
   "cell_type": "markdown",
   "id": "9f3804f2",
   "metadata": {},
   "source": [
    "# Assignment no 3"
   ]
  },
  {
   "cell_type": "markdown",
   "id": "b2c5631e",
   "metadata": {},
   "source": [
    "## Q1.1:- Ans"
   ]
  },
  {
   "cell_type": "code",
   "execution_count": 5,
   "id": "b0fdaa4d",
   "metadata": {},
   "outputs": [
    {
     "name": "stdout",
     "output_type": "stream",
     "text": [
      "input\n",
      "please insert the number : 45\n",
      "output:\n",
      "list of first n natural numbers are: [1, 2, 3, 4, 5, 6, 7, 8, 9, 10, 11, 12, 13, 14, 15, 16, 17, 18, 19, 20, 21, 22, 23, 24, 25, 26, 27, 28, 29, 30, 31, 32, 33, 34, 35, 36, 37, 38, 39, 40, 41, 42, 43, 44, 45]\n",
      "sum of list element are : 1035\n"
     ]
    }
   ],
   "source": [
    "def myreduce(num):\n",
    "    num_list=list(range(1,number+1))\n",
    "    sum_of_elements=0\n",
    "    \n",
    "    for i in num_list:\n",
    "        sum_of_elements+=i\n",
    "        \n",
    "    return num_list,sum_of_elements\n",
    "\n",
    "print(\"input\")\n",
    "number=int(input(\"please insert the number : \"))\n",
    "\n",
    "output_value=myreduce(number)\n",
    "\n",
    "print(\"output:\")\n",
    "print(\"list of first n natural numbers are:\",output_value[0])\n",
    "print(\"sum of list element are :\", output_value[1])"
   ]
  },
  {
   "cell_type": "markdown",
   "id": "9f07ed41",
   "metadata": {},
   "source": [
    "## Q1.2:- Ans"
   ]
  },
  {
   "cell_type": "code",
   "execution_count": 7,
   "id": "485c7373",
   "metadata": {},
   "outputs": [
    {
     "name": "stdout",
     "output_type": "stream",
     "text": [
      "input:\n",
      "please insert the number: 20\n",
      "output:\n",
      "list of numbers: [1, 2, 3, 4, 5, 6, 7, 8, 9, 10, 11, 12, 13, 14, 15, 16, 17, 18, 19, 20]\n",
      "list of even numbers , which are multiples of 5 are : [10, 20]\n",
      "list of odd numbers ,which are multiples of are : 1035\n"
     ]
    }
   ],
   "source": [
    "print(\"input:\")\n",
    "number=int(input(\"please insert the number: \"))\n",
    "num_list=list(range(1,number+1))\n",
    "\n",
    "def myfilter(num_list):\n",
    "    num_even_list=[]\n",
    "    num_odd_list=[]\n",
    "    \n",
    "    for i in num_list:\n",
    "        if(i%5==0):\n",
    "            if(i%2==0):\n",
    "                num_even_list.append(i)\n",
    "            else:\n",
    "                num_odd_list.append(i)\n",
    "    return num_even_list,num_odd_list\n",
    "\n",
    "out_value=myfilter(num_list)\n",
    "\n",
    "print(\"output:\")\n",
    "print(\"list of numbers:\",num_list)\n",
    "print(\"list of even numbers , which are multiples of 5 are :\",out_value[0])\n",
    "print(\"list of odd numbers ,which are multiples of are :\",output_value[1])"
   ]
  },
  {
   "cell_type": "markdown",
   "id": "56a47959",
   "metadata": {},
   "source": [
    "## Q 2:- Ans"
   ]
  },
  {
   "cell_type": "code",
   "execution_count": 10,
   "id": "911f193f",
   "metadata": {},
   "outputs": [
    {
     "name": "stdout",
     "output_type": "stream",
     "text": [
      "output:\n",
      "['I', 'N', 'E', 'U', 'R', 'O', 'N']\n",
      "['x', 'xx', 'xxx', 'xxxx', 'y', 'yy', 'yyy', 'yyyy', 'z', 'zz', 'zzz', 'zzzz']\n",
      "['x', 'y', 'z', 'xx', 'yy', 'zz', 'xxx', 'yyy', 'zzz', 'xxxx', 'yyyy', 'zzzz']\n",
      "[[2], [3], [4], [3], [4], [5], [4], [5], [6]]\n",
      "[[2, 3, 4, 5], [3, 4, 5, 6], [4, 5, 6, 7], [5, 6, 7, 8]]\n",
      "[(1, 1), (2, 1), (3, 1), (1, 2), (2, 2), (3, 2), (1, 3), (2, 3), (3, 3)]\n"
     ]
    }
   ],
   "source": [
    "word = \"ineuron\"\n",
    "output_list=[w.upper()for w in list(word)]\n",
    "print(\"output:\")\n",
    "print(output_list)\n",
    "\n",
    "word_1=list('xyz')\n",
    "word_2=[x*n for x in word_1 for n in range(1,5)]\n",
    "print(word_2)\n",
    "\n",
    "word_3=[x*n for n in range(1,5)for x in word_1]\n",
    "print(word_3)\n",
    "\n",
    "number=[2,3,4]\n",
    "number_1=[[x+n]for x in number for n in range(0,3)]\n",
    "print(number_1)\n",
    "\n",
    "number_2=[2,3,4,5]\n",
    "number_3=[[x+n for n in range(0,4)]for x in number_2]\n",
    "print(number_3)\n",
    "\n",
    "number_4=[1,2,3]\n",
    "number_5=[(b,a)for a in number_4 for b in number_4]\n",
    "print(number_5)"
   ]
  },
  {
   "cell_type": "code",
   "execution_count": null,
   "id": "f21e94dd",
   "metadata": {},
   "outputs": [],
   "source": []
  }
 ],
 "metadata": {
  "kernelspec": {
   "display_name": "Python 3",
   "language": "python",
   "name": "python3"
  },
  "language_info": {
   "codemirror_mode": {
    "name": "ipython",
    "version": 3
   },
   "file_extension": ".py",
   "mimetype": "text/x-python",
   "name": "python",
   "nbconvert_exporter": "python",
   "pygments_lexer": "ipython3",
   "version": "3.8.8"
  }
 },
 "nbformat": 4,
 "nbformat_minor": 5
}
