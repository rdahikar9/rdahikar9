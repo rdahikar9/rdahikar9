{
 "cells": [
  {
   "cell_type": "markdown",
   "id": "76e9a5eb",
   "metadata": {},
   "source": [
    "# python assignment 2\n",
    "\n",
    "## 1 ) ans \n"
   ]
  },
  {
   "cell_type": "code",
   "execution_count": 2,
   "id": "df918b03",
   "metadata": {},
   "outputs": [
    {
     "name": "stdout",
     "output_type": "stream",
     "text": [
      "*\n",
      "**\n",
      "***\n",
      "****\n",
      "*****\n",
      "****\n",
      "***\n",
      "**\n",
      "*\n",
      "\n"
     ]
    }
   ],
   "source": [
    "n=5\n",
    "for i in range(n):\n",
    "    for j in range(i+1):\n",
    "        print(\"*\",end=\"\")\n",
    "    print(\"\")\n",
    "for ii in range(n,0,-1):\n",
    "    jj=ii\n",
    "    for jj in range(jj-1,0,-1):\n",
    "        print(\"*\",end=\"\")\n",
    "    print(\"\")    \n",
    "    "
   ]
  },
  {
   "cell_type": "markdown",
   "id": "b4b6ac74",
   "metadata": {},
   "source": [
    "# 2 )"
   ]
  },
  {
   "cell_type": "code",
   "execution_count": 6,
   "id": "34fc6089",
   "metadata": {},
   "outputs": [
    {
     "name": "stdout",
     "output_type": "stream",
     "text": [
      "Input a word to reverse: ineuron\n",
      "norueni\n",
      "\n"
     ]
    }
   ],
   "source": [
    "word = input(\"Input a word to reverse: \")\n",
    "\n",
    "for char in range(len(word) - 1, -1, -1):\n",
    "print(word[char], end=\"\")\n",
    "print(\"\\n\")"
   ]
  },
  {
   "cell_type": "code",
   "execution_count": null,
   "id": "eac64c5d",
   "metadata": {},
   "outputs": [],
   "source": []
  },
  {
   "cell_type": "code",
   "execution_count": null,
   "id": "3021d5b6",
   "metadata": {},
   "outputs": [],
   "source": []
  }
 ],
 "metadata": {
  "kernelspec": {
   "display_name": "Python 3",
   "language": "python",
   "name": "python3"
  },
  "language_info": {
   "codemirror_mode": {
    "name": "ipython",
    "version": 3
   },
   "file_extension": ".py",
   "mimetype": "text/x-python",
   "name": "python",
   "nbconvert_exporter": "python",
   "pygments_lexer": "ipython3",
   "version": "3.8.8"
  }
 },
 "nbformat": 4,
 "nbformat_minor": 5
}
